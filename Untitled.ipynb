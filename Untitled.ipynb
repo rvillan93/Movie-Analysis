{
 "cells": [
  {
   "cell_type": "code",
   "execution_count": null,
   "metadata": {},
   "outputs": [],
   "source": [
    "#import .tsv files \n",
    "#need to specify encoding as 'latin1'\n",
    "\n",
    "movie_info = pd.read_csv(r\"C:\\Users\\rafav\\Documents\\Flatiron\\Final Project_Section 1\\project_data\\rt_movie_info.tsv\", delimiter='\\t',encoding='latin1')\n",
    "movie_reviews = pd.read_csv(r\"C:\\Users\\rafav\\Documents\\Flatiron\\Final Project_Section 1\\project_data\\rt_reviews.tsv\", delimiter='\\t',encoding='latin1')"
   ]
  }
 ],
 "metadata": {
  "kernelspec": {
   "display_name": "Python 3",
   "language": "python",
   "name": "python3"
  },
  "language_info": {
   "codemirror_mode": {
    "name": "ipython",
    "version": 3
   },
   "file_extension": ".py",
   "mimetype": "text/x-python",
   "name": "python",
   "nbconvert_exporter": "python",
   "pygments_lexer": "ipython3",
   "version": "3.7.4"
  }
 },
 "nbformat": 4,
 "nbformat_minor": 2
}
